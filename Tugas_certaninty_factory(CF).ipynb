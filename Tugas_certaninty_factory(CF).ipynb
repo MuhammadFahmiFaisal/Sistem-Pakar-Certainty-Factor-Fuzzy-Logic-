{
  "nbformat": 4,
  "nbformat_minor": 0,
  "metadata": {
    "colab": {
      "provenance": []
    },
    "kernelspec": {
      "name": "python3",
      "display_name": "Python 3"
    },
    "language_info": {
      "name": "python"
    }
  },
  "cells": [
    {
      "cell_type": "code",
      "execution_count": null,
      "metadata": {
        "colab": {
          "base_uri": "https://localhost:8080/"
        },
        "id": "BxUegAtA5XUn",
        "outputId": "eaf65704-0ada-46ad-8f50-2ba7a8816f8d"
      },
      "outputs": [
        {
          "output_type": "stream",
          "name": "stdout",
          "text": [
            "CF diagnosis Flu: 0.96\n"
          ]
        }
      ],
      "source": [
        "gejala_user = {\n",
        "    \"demam\": 0.2,                   # nilai diubah dari 0.7 → 0.2\n",
        "    \"batuk\": 0.5,\n",
        "    \"sakit_tenggorokan\": 0.6,\n",
        "    \"pilek\": 0.7,                  # gejala tambahan\n",
        "    \"nyeri_otot\": 0.6,             # gejala tambahan\n",
        "    \"lelah\": 0.8,                  # gejala tambahan\n",
        "    \"sakit_kepala\": 0.5,           # gejala tambahan\n",
        "    \"mata_berair\": 0.4             # gejala tambahan\n",
        "}\n",
        "\n",
        "# Pengetahuan pakar untuk penyakit flu\n",
        "pengetahuan = {\n",
        "    \"flu\": {\n",
        "        \"demam\": 0.8,\n",
        "        \"batuk\": 0.7,\n",
        "        \"sakit_tenggorokan\": 0.6,\n",
        "        \"pilek\": 0.6,\n",
        "        \"nyeri_otot\": 0.5,\n",
        "        \"lelah\": 0.7,\n",
        "        \"sakit_kepala\": 0.6,\n",
        "        \"mata_berair\": 0.4\n",
        "    }\n",
        "}\n",
        "\n",
        "# Fungsi menghitung CF gabungan\n",
        "def hitung_cf(gejala_user, pengetahuan_pakar):\n",
        "    cf_total = 0\n",
        "    first = True\n",
        "    for gejala, cf_user in gejala_user.items():\n",
        "        if gejala in pengetahuan_pakar:\n",
        "            cf_pakar = pengetahuan_pakar[gejala]\n",
        "            cf = cf_user * cf_pakar\n",
        "            if first:\n",
        "                cf_total = cf\n",
        "                first = False\n",
        "            else:\n",
        "                cf_total = cf_total + cf * (1 - cf_total)\n",
        "    return cf_total\n",
        "\n",
        "# Perhitungan CF untuk diagnosis flu\n",
        "cf_flu = hitung_cf(gejala_user, pengetahuan[\"flu\"])\n",
        "print(f\"CF diagnosis Flu: {cf_flu:.2f}\")\n",
        "\n",
        "\n",
        "\n",
        "# Perubahan nilai \"demam\" dari 0.7 menjadi 0.2 akan MENURUNKAN kontribusi CF gejala tersebut terhadap total CF.\n",
        "# Hal ini karena CF dihitung sebagai hasil kali antara nilai dari user dan pakar (cf_user * cf_pakar).\n",
        "# Awalnya: 0.7 * 0.8 = 0.56 → Setelah diubah: 0.2 * 0.8 = 0.16\n",
        "\n",
        "# Karena metode gabungannya menggunakan:\n",
        "#   CF1 + CF2*(1-CF1)\n",
        "# maka kontribusi gejala awal akan berpengaruh besar terhadap hasil akhir.\n",
        "# Dengan \"demam\" menjadi kecil (0.16), nilai awal cf_total jadi rendah, sehingga meskipun gejala lain besar,\n",
        "# hasil akhirnya tetap lebih rendah dibanding jika \"demam\" punya nilai tinggi.\n",
        "\n",
        "# Penambahan 5 gejala baru meningkatkan jumlah informasi yang diproses.\n",
        "# Jika nilai CF dari gejala tambahan cukup tinggi dan bobot pakar juga signifikan,\n",
        "# maka total CF akan lebih akurat dan bisa meningkat atau menurun tergantung kontribusi masing-masing.\n",
        "\n",
        "# Jadi, perubahan pada satu gejala (terutama yang pertama diiterasi) bisa sangat memengaruhi total CF.\n"
      ]
    }
  ]
}